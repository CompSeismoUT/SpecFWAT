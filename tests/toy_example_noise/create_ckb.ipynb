{
 "cells": [
  {
   "cell_type": "code",
   "execution_count": 2,
   "metadata": {},
   "outputs": [],
   "source": [
    "import numpy as np\n",
    "from pyfwat.pario import readpar\n",
    "from pyproj import Proj\n",
    "import h5py\n",
    "import matplotlib.pyplot as plt\n",
    "import pandas as pd"
   ]
  },
  {
   "cell_type": "code",
   "execution_count": 3,
   "metadata": {},
   "outputs": [],
   "source": [
    "def get_vp_rho(vs):\n",
    "    vp = 0.9409 + 2.0947*vs - 0.8206*vs**2 + 0.2683*vs**3 - 0.0251*vs**4\n",
    "    rho = 1.6612*vp - 0.4721*vp**2 + 0.0671*vp**3 - 0.0043*vp**4 + 0.000106*vp**5\n",
    "    # vs = 0.7858 - 1.2344*vp + 0.7949*vp**2 - 0.1238*vp**3 + 0.0064*vp**4\n",
    "    return vp, rho"
   ]
  },
  {
   "cell_type": "code",
   "execution_count": 4,
   "metadata": {},
   "outputs": [
    {
     "name": "stdout",
     "output_type": "stream",
     "text": [
      "lat_min, lat_max, lon_min, lon_max, dep_max: -1.0 1.0 -1.0 1.0 32.0\n",
      "xmin, xmax, ymin, ymax: 722561.736478863 945396.6839773951 -110801.83254625657 110801.83254625657\n"
     ]
    }
   ],
   "source": [
    "# define axis\n",
    "lat_min = readpar('./DATA/meshfem3D_files/Mesh_Par_file', 'LATITUDE_MIN')\n",
    "lat_max = readpar('./DATA/meshfem3D_files/Mesh_Par_file', 'LATITUDE_MAX')\n",
    "lon_min = readpar('./DATA/meshfem3D_files/Mesh_Par_file', 'LONGITUDE_MIN')\n",
    "lon_max = readpar('./DATA/meshfem3D_files/Mesh_Par_file', 'LONGITUDE_MAX')\n",
    "dep_max = readpar('./DATA/meshfem3D_files/Mesh_Par_file', 'DEPTH_BLOCK_KM')\n",
    "print ('lat_min, lat_max, lon_min, lon_max, dep_max:', lat_min, lat_max, lon_min, lon_max, dep_max)\n",
    "zmax = 0\n",
    "zmin = -dep_max*1000\n",
    "zone = int(readpar('./DATA/meshfem3D_files/Mesh_Par_file', 'UTM_PROJECTION_ZONE'))\n",
    "geo2utm = Proj(proj='utm', zone=zone, ellps='WGS84')\n",
    "xmin1, ymin1 = geo2utm(lon_min, lat_min)\n",
    "xmin2, ymin2 = geo2utm(lon_min, lat_max)\n",
    "xmin = min(xmin1, xmin2)\n",
    "xmax1, ymax1 = geo2utm(lon_max, lat_min)\n",
    "xmax2, ymax2 = geo2utm(lon_max, lat_max)\n",
    "xmax = max(xmax1, xmax2)\n",
    "xmin1, ymin1 = geo2utm(lon_min, lat_min)\n",
    "xmin2, ymin2 = geo2utm(lon_max, lat_min)\n",
    "ymin = min(ymin1, ymin2)\n",
    "xmax1, ymax1 = geo2utm(lon_min, lat_max)\n",
    "xmax2, ymax2 = geo2utm(lon_max, lat_max)\n",
    "ymax = max(ymax1, ymax2)\n",
    "print('xmin, xmax, ymin, ymax:', xmin, xmax, ymin, ymax)\n",
    "dh = 2000\n",
    "x = np.arange(xmin, xmax+dh, dh)\n",
    "y = np.arange(ymin, ymax+dh, dh)\n",
    "dz = 1000\n",
    "z = np.arange(zmin, zmax+dz, dz)"
   ]
  },
  {
   "cell_type": "code",
   "execution_count": 5,
   "metadata": {},
   "outputs": [],
   "source": [
    "# build initial model\n",
    "vsmin, vsmax = 3.3, 4.0\n",
    "vs = np.zeros((len(x), len(y), len(z)))\n",
    "idx = np.where(z >= -27000)[0]\n",
    "vs[:, :, idx] = np.linspace(vsmin, vsmax, len(idx))[::-1][np.newaxis, np.newaxis, :]\n",
    "vs[:, :, z < -27000] = vsmax\n",
    "vp, rho = get_vp_rho(vs)\n",
    "with h5py.File('initial_model.h5', 'w') as f:\n",
    "    f.create_dataset('x', data=x)\n",
    "    f.create_dataset('y', data=y)\n",
    "    f.create_dataset('z', data=z)\n",
    "    f.create_dataset('vp', data=vp*1000)\n",
    "    f.create_dataset('vs', data=vs*1000)\n",
    "    f.create_dataset('rho', data=rho*1000)"
   ]
  },
  {
   "cell_type": "code",
   "execution_count": 6,
   "metadata": {},
   "outputs": [],
   "source": [
    "def create_taper(xleft, xright, axis):\n",
    "    delta = axis[1] - axis[0]\n",
    "    ntaper_left = int((xleft-axis[0])/delta)\n",
    "    ntaper_right = int((axis[-1]-xright)/delta)\n",
    "    return ntaper_left, ntaper_right"
   ]
  },
  {
   "cell_type": "code",
   "execution_count": 7,
   "metadata": {},
   "outputs": [
    {
     "name": "stdout",
     "output_type": "stream",
     "text": [
      "size of anomaly: 72000.0\n",
      "size of anomaly: 71000.0\n",
      "size of anomaly: 15000.0\n"
     ]
    }
   ],
   "source": [
    "# create checkerboard model\n",
    "limh = 40000\n",
    "limz = [-30000, 0]\n",
    "n_pert_x = 2\n",
    "n_pert_y = 2\n",
    "n_pert_z = 2\n",
    "pertv = 0.12\n",
    "\n",
    "x_pert = np.zeros_like(x)\n",
    "ntaper_left, ntaper_right = create_taper(x[0]+limh, x[-1]-limh, x)\n",
    "x_pert[ntaper_left:x.size-ntaper_right] = \\\n",
    "            np.sin(n_pert_x*np.pi*np.arange(x.size-(ntaper_left+ntaper_right))/ \\\n",
    "            (x.size-(ntaper_left+ntaper_right)))\n",
    "print('size of anomaly:', (x[-1]-x[0]-2*limh)/n_pert_x)\n",
    "\n",
    "\n",
    "y_pert = np.zeros_like(y)\n",
    "ntaper_left, ntaper_right = create_taper(y[0]+limh, y[-1]-limh, y)\n",
    "y_pert[ntaper_left:y.size-ntaper_right] = \\\n",
    "            np.sin(n_pert_y*np.pi*np.arange(y.size-(ntaper_left+ntaper_right))/ \\\n",
    "            (y.size-(ntaper_left+ntaper_right)))\n",
    "print('size of anomaly:', (y[-1]-y[0]-2*limh)/n_pert_y)\n",
    "\n",
    "z_pert = np.zeros_like(z)\n",
    "ntaper_left, ntaper_right = create_taper(limz[0], limz[1], z)\n",
    "# ntaper_right = 0\n",
    "\n",
    "z_pert[ntaper_left:z.size-ntaper_right] = \\\n",
    "            np.sin(n_pert_z*np.pi*np.arange(z.size-(ntaper_left+ntaper_right))/ \\\n",
    "            (z.size-(ntaper_left+ntaper_right)))\n",
    "print('size of anomaly:', (limz[1]-limz[0])/n_pert_z)\n",
    "\n",
    "xx, yy, zz = np.meshgrid(x_pert, y_pert, z_pert, indexing='ij')\n",
    "pert = xx*yy*zz*pertv\n",
    "vs_pert = vs*(1+pert)\n",
    "vp_pert, rho_pert = get_vp_rho(vs_pert)\n",
    "with h5py.File('target_model.h5', 'w') as f:\n",
    "    f.create_dataset('x', data=x)\n",
    "    f.create_dataset('y', data=y)\n",
    "    f.create_dataset('z', data=z)\n",
    "    f.create_dataset('vp', data=vp_pert*1000)\n",
    "    f.create_dataset('vs', data=vs_pert*1000)\n",
    "    f.create_dataset('rho', data=rho_pert*1000)"
   ]
  },
  {
   "cell_type": "code",
   "execution_count": 8,
   "metadata": {},
   "outputs": [],
   "source": [
    "# create station template\n",
    "dsta = 40000\n",
    "lim = 20000\n",
    "sta = []\n",
    "nsta = 1\n",
    "utm2geo = Proj(proj='latlong', zone=zone, datum='WGS84')\n",
    "for j, sty in enumerate(np.linspace(ymin+lim, ymax-lim, 7)):\n",
    "    for i, stx in enumerate(np.linspace(xmin+lim, xmax-lim, 7)):\n",
    "        stnm = 'ST{:03d}'.format(nsta)\n",
    "        stlo, stla = geo2utm(stx, sty, inverse=True)\n",
    "        sta.append([stnm, 'MX', stla, stlo, 0.0, 0.0])\n",
    "        nsta += 1\n",
    "\n",
    "sta = pd.DataFrame(sta, columns=['stnm', 'net', 'lat', 'lon', 'elev', 'depth'])\n",
    "sta.to_csv('./DATA/STATIONS', sep=' ', index=False, header=False)"
   ]
  },
  {
   "cell_type": "code",
   "execution_count": null,
   "metadata": {},
   "outputs": [
    {
     "name": "stdout",
     "output_type": "stream",
     "text": [
      "-7000.0\n"
     ]
    },
    {
     "data": {
      "text/plain": [
       "[<matplotlib.lines.Line2D at 0x76dcb42c7050>]"
      ]
     },
     "execution_count": 13,
     "metadata": {},
     "output_type": "execute_result"
    },
    {
     "data": {
      "image/png": "[encoded data removed]",
      "text/plain": [
       "<Figure size 640x480 with 2 Axes>"
      ]
     },
     "metadata": {},
     "output_type": "display_data"
    }
   ],
   "source": [
    "plt.figure()\n",
    "plt.pcolor(x, y, pert[:, :, 12].T, cmap='bwr_r')\n",
    "plt.colorbar(label='perturbation')\n",
    "print(z[12])\n",
    "stxx, styy = geo2utm(sta.lon, sta.lat)\n",
    "plt.plot(stxx, styy, 'ro')\n",
    "plt.plot(stxx[0], styy[0], 'bo')\n",
    "plt.plot(stxx[6], styy[6], 'bo')\n",
    "plt.plot(stxx[42], styy[42], 'bo')\n",
    "plt.plot(stxx[48], styy[48], 'bo')\n",
    "plt.plot(stxx[3], styy[3], 'bo')\n",
    "plt.plot(stxx[27], styy[27], 'bo')\n",
    "plt.plot(stxx[45], styy[45], 'bo')\n",
    "plt.plot(stxx[21], styy[21], 'bo')"
   ]
  }
 ],
 "metadata": {
  "kernelspec": {
   "display_name": "fwat",
   "language": "python",
   "name": "python3"
  },
  "language_info": {
   "codemirror_mode": {
    "name": "ipython",
    "version": 3
   },
   "file_extension": ".py",
   "mimetype": "text/x-python",
   "name": "python",
   "nbconvert_exporter": "python",
   "pygments_lexer": "ipython3",
   "version": "3.12.3"
  }
 },
 "nbformat": 4,
 "nbformat_minor": 2
}
